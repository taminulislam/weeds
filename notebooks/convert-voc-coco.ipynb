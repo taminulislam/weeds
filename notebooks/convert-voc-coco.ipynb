{
 "cells": [
  {
   "cell_type": "code",
   "execution_count": 1,
   "id": "217780f9-0fdb-434f-bc51-c052621d4e47",
   "metadata": {},
   "outputs": [],
   "source": [
    "from pylabel import importer\n",
    "import os, zipfile"
   ]
  },
  {
   "cell_type": "code",
   "execution_count": 2,
   "id": "4f9d90af",
   "metadata": {},
   "outputs": [],
   "source": [
    "train_path_to_annotations = \"../data/6_species_all_data/splitted_labels/train\"\n",
    "train_path_to_images = \"../data/6_species_all_data/splitted_images/train\"\n",
    "\n",
    "test_path_to_annotations = \"../data/6_species_all_data/splitted_labels/test\"\n",
    "test_path_to_images = \"../data/6_species_all_data/splitted_images/test\"\n",
    "\n",
    "val_path_to_annotations = \"../data/6_species_all_data/splitted_labels/validation\"\n",
    "val_path_to_images = \"../data/6_species_all_data/splitted_images/validation\"\n",
    "\n"
   ]
  },
  {
   "cell_type": "code",
   "execution_count": null,
   "id": "4508ab85",
   "metadata": {},
   "outputs": [],
   "source": [
    "train_dataset = importer.ImportVOC(path=train_path_to_annotations, path_to_images=train_path_to_images, name=\"train_dataset\")\n"
   ]
  },
  {
   "cell_type": "code",
   "execution_count": null,
   "id": "352bd517",
   "metadata": {},
   "outputs": [],
   "source": [
    "train_dataset.df.head(5)\n"
   ]
  },
  {
   "cell_type": "code",
   "execution_count": null,
   "id": "7b1cb8fb",
   "metadata": {},
   "outputs": [],
   "source": [
    "\n",
    "test_dataset = importer.ImportVOC(path=test_path_to_annotations, path_to_images=test_path_to_images, name=\"test_dataset\")\n",
    "test_dataset.df.head(5)\n"
   ]
  },
  {
   "cell_type": "code",
   "execution_count": null,
   "id": "a1431509",
   "metadata": {},
   "outputs": [],
   "source": [
    "\n",
    "val_dataset = importer.ImportVOC(path=val_path_to_annotations, path_to_images=val_path_to_images, name=\"val_dataset\")\n",
    "val_dataset.df.head(5)"
   ]
  },
  {
   "cell_type": "code",
   "execution_count": null,
   "id": "31e6a55d-598b-4f05-9377-0b6a8dc12677",
   "metadata": {},
   "outputs": [],
   "source": [
    "path_to_annotations = \"../data/6_species_all_data/splitted_labels/train\"\n",
    "\n",
    "path_to_images = \"../data/6_species_all_data/splitted_images/train\"\n",
    "\n",
    "dataset = importer.ImportVOC(path=path_to_annotations, path_to_images=path_to_images, name=\"dataset\")\n",
    "dataset.df.head(5)"
   ]
  },
  {
   "cell_type": "code",
   "execution_count": null,
   "id": "b4f93a08-c20c-41e0-ae1e-e70be8dae216",
   "metadata": {},
   "outputs": [],
   "source": [
    "print(f\"Number of images: {train_dataset.analyze.num_images}\")\n",
    "print(f\"Number of classes: {train_dataset.analyze.num_classes}\")\n",
    "print(f\"Classes:{train_dataset.analyze.classes}\")\n",
    "print(f\"Class counts:\\n{train_dataset.analyze.class_counts}\")\n"
   ]
  },
  {
   "cell_type": "code",
   "execution_count": null,
   "id": "9ddaf106",
   "metadata": {},
   "outputs": [],
   "source": [
    "path_to_annotations = \"../data/6_species_all_data/splitted_labels/test\"\n",
    "\n",
    "path_to_images = \"../data/6_species_all_data/splitted_images/test\"\n",
    "\n",
    "dataset = importer.ImportVOC(path=path_to_annotations, path_to_images=path_to_images, name=\"dataset\")\n",
    "dataset.df.head(5)"
   ]
  },
  {
   "cell_type": "code",
   "execution_count": null,
   "id": "3cf340cf",
   "metadata": {},
   "outputs": [],
   "source": [
    "print(f\"Number of images: {test_dataset.analyze.num_images}\")\n",
    "print(f\"Number of classes: {test_dataset.analyze.num_classes}\")\n",
    "print(f\"Classes:{test_dataset.analyze.classes}\")\n",
    "print(f\"Class counts:\\n{test_dataset.analyze.class_counts}\")"
   ]
  },
  {
   "cell_type": "code",
   "execution_count": null,
   "id": "e4bb20eb",
   "metadata": {},
   "outputs": [],
   "source": [
    "path_to_annotations = \"../data/6_species_all_data/splitted_labels/validation\"\n",
    "\n",
    "path_to_images = \"../data/6_species_all_data/splitted_images/validation\"\n",
    "\n",
    "dataset = importer.ImportVOC(path=path_to_annotations, path_to_images=path_to_images, name=\"dataset\")\n",
    "dataset.df.head(5)"
   ]
  },
  {
   "cell_type": "code",
   "execution_count": null,
   "id": "15aefed1",
   "metadata": {},
   "outputs": [],
   "source": [
    "print(f\"Number of images: {val_dataset.analyze.num_images}\")\n",
    "print(f\"Number of classes: {val_dataset.analyze.num_classes}\")\n",
    "print(f\"Classes:{val_dataset.analyze.classes}\")\n",
    "print(f\"Class counts:\\n{val_dataset.analyze.class_counts}\")"
   ]
  },
  {
   "cell_type": "code",
   "execution_count": 13,
   "id": "14e9eff3-ac7f-4b8c-9bd5-d4b43508b18d",
   "metadata": {},
   "outputs": [],
   "source": [
    "from IPython.display import Image, display"
   ]
  },
  {
   "cell_type": "code",
   "execution_count": null,
   "id": "818aa44a-aec6-49a2-ac55-edf3378945ab",
   "metadata": {},
   "outputs": [],
   "source": [
    "display(train_dataset.visualize.ShowBoundingBoxes(605))"
   ]
  },
  {
   "cell_type": "code",
   "execution_count": null,
   "id": "5d594eb9",
   "metadata": {},
   "outputs": [],
   "source": [
    "test_dataset.export.ExportToCoco(output_path=\"../data/6_species_all_data/splitted_labels/test.json\", cat_id_index=0)\n",
    "\n"
   ]
  },
  {
   "cell_type": "code",
   "execution_count": null,
   "id": "90c6ed0c",
   "metadata": {},
   "outputs": [],
   "source": [
    "val_dataset.export.ExportToCoco(output_path=\"../data/6_species_all_data/splitted_labels/val.json\", cat_id_index=0)\n",
    "\n"
   ]
  },
  {
   "cell_type": "code",
   "execution_count": null,
   "id": "ae3b877b",
   "metadata": {},
   "outputs": [],
   "source": [
    "train_dataset.export.ExportToCoco(output_path=\"../data/6_species_all_data/splitted_labels/train.json\", cat_id_index=0)\n"
   ]
  },
  {
   "cell_type": "code",
   "execution_count": null,
   "id": "d23bebbe",
   "metadata": {},
   "outputs": [],
   "source": [
    "dataset.export.ExportToCoco(output_path=\"../../Main_Dataset/splitted_labels/val.json\", cat_id_index=0)"
   ]
  }
 ],
 "metadata": {
  "kernelspec": {
   "display_name": "pylabel",
   "language": "python",
   "name": "python3"
  },
  "language_info": {
   "codemirror_mode": {
    "name": "ipython",
    "version": 3
   },
   "file_extension": ".py",
   "mimetype": "text/x-python",
   "name": "python",
   "nbconvert_exporter": "python",
   "pygments_lexer": "ipython3",
   "version": "3.8.19"
  }
 },
 "nbformat": 4,
 "nbformat_minor": 5
}
